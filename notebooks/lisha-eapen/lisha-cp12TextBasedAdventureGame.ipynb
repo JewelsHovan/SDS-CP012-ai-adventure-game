{
 "cells": [
  {
   "cell_type": "code",
   "execution_count": null,
   "metadata": {},
   "outputs": [],
   "source": [
    "from langchain.prompts import PromptTemplate\n",
    "from langchain.llms import HuggingFacePipeline\n",
    "from transformers import AutoModelForCausalLM, AutoTokenizer, pipeline\n",
    "\n",
    "API_URL = \"https://api-inference.huggingface.co/models/microsoft/DialoGPT-medium\"\n",
    "\n",
    "def get_response(user_input):\n",
    "    response = requests.post(API_URL, headers=headers, json={\"inputs\": user_input})\n",
    "    if response.status_code == 200:\n",
    "      print(response.status_code)\n",
    "      result = response.json()\n",
    "      print(result)\n",
    "      # Parse the response to get generated text\n",
    "      for response_dict in result:\n",
    "        print(response_dict)\n",
    "        return response_dict[\"generated_text\"]\n",
    "    else:\n",
    "        print(\"Error:\", response.status_code, response.text)\n",
    "        return \"Error generating response.\"\n",
    "\n",
    "# Console-based game loop\n",
    "def play_game():\n",
    "    print(\"Welcome to the DialoGPT Adventure Game!\")\n",
    "    user_input = \"start\"  # initial input to start the game\n",
    "\n",
    "    while True:\n",
    "\n",
    "        # Get the next user input\n",
    "        user_input = input(\"What action would you like to take? (type 'quit' to exit) \")\n",
    "        if user_input.lower() == \"quit\":\n",
    "            print(\"Thanks for playing! Goodbye.\")\n",
    "            break\n",
    "        else:\n",
    "            response = get_response(user_input.lower())\n",
    "            print(\"DialoGPT Response:\", response)\n",
    "\n",
    "# Start the game\n",
    "play_game()\n"
   ]
  }
 ],
 "metadata": {
  "kernelspec": {
   "display_name": "base",
   "language": "python",
   "name": "python3"
  },
  "language_info": {
   "name": "python",
   "version": "3.12.4"
  }
 },
 "nbformat": 4,
 "nbformat_minor": 2
}
