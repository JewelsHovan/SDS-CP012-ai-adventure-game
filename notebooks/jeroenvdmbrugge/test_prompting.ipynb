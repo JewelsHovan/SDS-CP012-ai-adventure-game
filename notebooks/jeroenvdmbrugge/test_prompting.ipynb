{
 "cells": [
  {
   "cell_type": "markdown",
   "id": "34cf304f-d202-4f56-b7b8-8d2328bf1b08",
   "metadata": {},
   "source": [
    "# Test prompting the LLM"
   ]
  },
  {
   "cell_type": "code",
   "execution_count": 1,
   "id": "1c0f157a-c9f2-4c0b-8557-3386afae7436",
   "metadata": {},
   "outputs": [],
   "source": [
    "from config import client\n",
    "from prompts import scene_prompt"
   ]
  },
  {
   "cell_type": "code",
   "execution_count": 2,
   "id": "ee57a5c7-de15-4e4e-a5ca-c8316c9e8b6c",
   "metadata": {},
   "outputs": [],
   "source": [
    "def test_scene_prompt(location, inventory):\n",
    "    prompt_text = scene_prompt.format(location=location, inventory=inventory)\n",
    "    response = client.chat.completions.create(\n",
    "        model=\"gpt-3.5-turbo\",\n",
    "        messages=[\n",
    "            {\"role\": \"system\", \"content\": \"You are a text-based adventure game generator.\"},\n",
    "            {\"role\": \"user\", \"content\": prompt_text},\n",
    "        ],\n",
    "        max_tokens=150,\n",
    "    )\n",
    "    return response.choices[0].message.content.strip()"
   ]
  },
  {
   "cell_type": "markdown",
   "id": "430750f3-128e-4981-a2e5-b44c187104ed",
   "metadata": {},
   "source": [
    "## Testing the Scene Prompt for different scenarios"
   ]
  },
  {
   "cell_type": "markdown",
   "id": "0404715f-f1e4-4ced-a60d-24ab48f9fa13",
   "metadata": {},
   "source": [
    "#### Medieval Fantasy"
   ]
  },
  {
   "cell_type": "code",
   "execution_count": 4,
   "id": "da522519-7662-4f23-bb34-815edcec3242",
   "metadata": {},
   "outputs": [],
   "source": [
    "location = \"a small, dimly lit tavern in the heart of a bustling medieval town\"\n",
    "inventory = \"a rusted sword, a tattered map of the kingdom, a pouch of gold coins\""
   ]
  },
  {
   "cell_type": "code",
   "execution_count": 5,
   "id": "7357ae0a-a9c0-4575-8180-167e0b9160fa",
   "metadata": {},
   "outputs": [
    {
     "data": {
      "text/plain": [
       "'The tavern is filled with the warm glow of flickering candles and the sound of merry chatter from the patrons. Rough-hewn wooden tables are scattered throughout the room, along with a stone fireplace crackling in the corner. A barkeep wipes down the counter, while a group of rowdy adventurers play a game of dice at a nearby table.\\n\\nPossible actions:\\n1. Approach the barkeep to ask for information or a drink.\\n2. Join the group of adventurers in their game of dice.\\n3. Examine the tattered map of the kingdom to plan your next move.'"
      ]
     },
     "execution_count": 5,
     "metadata": {},
     "output_type": "execute_result"
    }
   ],
   "source": [
    "test_scene_prompt(location, inventory)"
   ]
  },
  {
   "cell_type": "markdown",
   "id": "48bb0026-f3a1-40dd-a992-be7b9fe90c17",
   "metadata": {},
   "source": [
    "#### Space Adventure"
   ]
  },
  {
   "cell_type": "code",
   "execution_count": 6,
   "id": "3de94c8f-eaf8-4c53-9ac9-e131255a01dc",
   "metadata": {},
   "outputs": [],
   "source": [
    "location = \"the observation deck of a starship orbiting a distant planet\"\n",
    "inventory = \"a handheld laser communicator, a star chart, an emergency oxygen mask\""
   ]
  },
  {
   "cell_type": "code",
   "execution_count": 7,
   "id": "06155a5f-a79f-4735-aed1-38c6b905bf61",
   "metadata": {},
   "outputs": [
    {
     "data": {
      "text/plain": [
       "\"The observation deck of the starship offers a breathtaking view of the distant planet below. The planet's surface is a mesmerizing blend of swirling clouds and vibrant green landmasses. In the distance, you can see the glimmer of a vast ocean reflecting the sunlight.\\n\\nPossible actions:\\n1. Use the handheld laser communicator to try and establish communication with any intelligent life forms on the planet.\\n2. Consult the star chart to locate any interesting celestial bodies or points of interest in the vicinity.\\n3. Put on the emergency oxygen mask and step outside onto the observation deck to get a closer look at the planet below.\""
      ]
     },
     "execution_count": 7,
     "metadata": {},
     "output_type": "execute_result"
    }
   ],
   "source": [
    "test_scene_prompt(location, inventory)"
   ]
  },
  {
   "cell_type": "markdown",
   "id": "c6d392dc-419f-4d31-8669-c5b7525d0e2a",
   "metadata": {},
   "source": [
    "#### Mirror World"
   ]
  },
  {
   "cell_type": "code",
   "execution_count": 8,
   "id": "6ef506cf-63e0-4a69-a6b9-9bec04a513dd",
   "metadata": {},
   "outputs": [],
   "source": [
    "location = \"a reflection of your own bedroom, but everything is inverted and eerily quiet\"\n",
    "inventory = \"a broken pocket watch, a small mirror, a faded letter with mysterious symbols\""
   ]
  },
  {
   "cell_type": "code",
   "execution_count": 9,
   "id": "d8be8779-45ed-4169-b9af-1597d253d5ad",
   "metadata": {},
   "outputs": [
    {
     "data": {
      "text/plain": [
       "'The room is dimly lit, casting long shadows across the walls. The furniture is all present but slightly distorted or shifted in odd angles, adding to the sense of unease. The broken pocket watch lies on the floor, its hands frozen in time. The small mirror reflects back a warped version of yourself, making you look almost unfamiliar. The faded letter bears strange symbols that seem to shift and dance on the page.\\n\\nPossible actions:\\n1. Examine the broken pocket watch closely to see if there are any clues or hidden compartments.\\n2. Hold up the small mirror to different areas of the room to see if it reveals any hidden details or changes.\\n3. Study the faded letter and try to decipher the mysterious symbols to unravel its meaning.'"
      ]
     },
     "execution_count": 9,
     "metadata": {},
     "output_type": "execute_result"
    }
   ],
   "source": [
    "test_scene_prompt(location, inventory)"
   ]
  },
  {
   "cell_type": "markdown",
   "id": "db953778-2f4d-4ccc-a1c3-276e481127fd",
   "metadata": {},
   "source": [
    "#### Post Apocalyptic"
   ]
  },
  {
   "cell_type": "code",
   "execution_count": 11,
   "id": "2e392197-7404-4c8e-b39f-3a7e8626face",
   "metadata": {},
   "outputs": [],
   "source": [
    "location = \"a deserted city street, overgrown with wild plants, with crumbling skyscrapers in the distance\"\n",
    "inventory = \"a can of beans, a makeshift spear, a torn map of the city\""
   ]
  },
  {
   "cell_type": "code",
   "execution_count": 12,
   "id": "841837ce-682b-494c-9f3a-2640dea26ecd",
   "metadata": {},
   "outputs": [
    {
     "data": {
      "text/plain": [
       "'The deserted city street is eerie, with nature reclaiming its territory as vines crawl up the sides of the crumbling buildings. The air is heavy with silence, broken only by the occasional rustling of leaves or distant creaking of metal.\\n\\nPossible actions:\\n1. Explore one of the nearby buildings to scavenge for supplies or clues.\\n2. Follow the torn map to a specific location marked on it.\\n3. Use the makeshift spear to hunt for food or defend yourself against potential threats.'"
      ]
     },
     "execution_count": 12,
     "metadata": {},
     "output_type": "execute_result"
    }
   ],
   "source": [
    "test_scene_prompt(location, inventory)"
   ]
  },
  {
   "cell_type": "markdown",
   "id": "b2d4cafb-18b1-4598-aab1-638ce65cd2fd",
   "metadata": {},
   "source": [
    "#### Haunted Mansion"
   ]
  },
  {
   "cell_type": "code",
   "execution_count": 14,
   "id": "65df2088-43f0-4d54-8b73-dffdc33f0190",
   "metadata": {},
   "outputs": [],
   "source": [
    "location = \"a once grand but now dilapidated ballroom, with cobwebs draping the chandeliers and eerie whispers echoing through the air\"\n",
    "inventory = \"a candle, a leather-bound diary, an ornate key\""
   ]
  },
  {
   "cell_type": "code",
   "execution_count": 15,
   "id": "18667d68-90ed-4dcc-ab02-1f218d17261e",
   "metadata": {},
   "outputs": [
    {
     "data": {
      "text/plain": [
       "'The faded grandeur of the ballroom is evident in the intricate moldings on the walls and the dusty, ornate furniture scattered around the room. Moonlight filters through the cracked windows, casting long shadows across the worn wooden floor. The air is heavy with the scent of neglect and age.\\n\\nPossible actions:\\n1. Light the candle to illuminate the room and search for any hidden passages or clues.\\n2. Examine the leather-bound diary to see if it contains any information about the history of the ballroom or its previous inhabitants.\\n3. Use the ornate key to unlock one of the old cabinets or doors in search of hidden treasures or secrets.'"
      ]
     },
     "execution_count": 15,
     "metadata": {},
     "output_type": "execute_result"
    }
   ],
   "source": [
    "test_scene_prompt(location, inventory)"
   ]
  },
  {
   "cell_type": "code",
   "execution_count": null,
   "id": "d1f62f10-f1d2-47ea-a5ee-7c8910a3a454",
   "metadata": {},
   "outputs": [],
   "source": []
  }
 ],
 "metadata": {
  "kernelspec": {
   "display_name": "SDS CP12 AI Adventure Game",
   "language": "python",
   "name": "sds-cp12-ai-adventure-game"
  },
  "language_info": {
   "codemirror_mode": {
    "name": "ipython",
    "version": 3
   },
   "file_extension": ".py",
   "mimetype": "text/x-python",
   "name": "python",
   "nbconvert_exporter": "python",
   "pygments_lexer": "ipython3",
   "version": "3.12.4"
  }
 },
 "nbformat": 4,
 "nbformat_minor": 5
}
